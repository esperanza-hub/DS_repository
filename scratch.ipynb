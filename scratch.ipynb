{
 "cells": [
  {
   "cell_type": "code",
   "execution_count": 12,
   "outputs": [
    {
     "name": "stdout",
     "output_type": "stream",
     "text": [
      "Defaulting to user installation because normal site-packages is not writeable\n",
      "Requirement already satisfied: pip in c:\\users\\ahsen\\appdata\\roaming\\python\\python39\\site-packages (22.2.2)\n",
      "Defaulting to user installation because normal site-packages is not writeable\n",
      "Requirement already satisfied: pymor[full] in c:\\users\\ahsen\\appdata\\roaming\\python\\python39\\site-packages (2022.1.0)\n",
      "Requirement already satisfied: numpy<1.24,>=1.19.4 in c:\\programdata\\anaconda3\\lib\\site-packages (from pymor[full]) (1.21.5)\n",
      "Requirement already satisfied: diskcache in c:\\users\\ahsen\\appdata\\roaming\\python\\python39\\site-packages (from pymor[full]) (5.4.0)\n",
      "Requirement already satisfied: scipy>=1.5.4 in c:\\programdata\\anaconda3\\lib\\site-packages (from pymor[full]) (1.7.3)\n",
      "Requirement already satisfied: typer in c:\\users\\ahsen\\appdata\\roaming\\python\\python39\\site-packages (from pymor[full]) (0.6.1)\n",
      "Requirement already satisfied: packaging in c:\\programdata\\anaconda3\\lib\\site-packages (from pymor[full]) (21.3)\n",
      "Requirement already satisfied: qtpy!=2.0.0 in c:\\programdata\\anaconda3\\lib\\site-packages (from pymor[full]) (2.0.1)\n",
      "Requirement already satisfied: click in c:\\programdata\\anaconda3\\lib\\site-packages (from pymor[full]) (8.0.4)\n",
      "Requirement already satisfied: bash-kernel in c:\\users\\ahsen\\appdata\\roaming\\python\\python39\\site-packages (from pymor[full]) (0.8.0)\n",
      "Requirement already satisfied: jupyter-contrib-nbextensions in c:\\users\\ahsen\\appdata\\roaming\\python\\python39\\site-packages (from pymor[full]) (0.5.1)\n",
      "Requirement already satisfied: lxml in c:\\programdata\\anaconda3\\lib\\site-packages (from pymor[full]) (4.8.0)\n",
      "Requirement already satisfied: gmsh in c:\\users\\ahsen\\appdata\\roaming\\python\\python39\\site-packages (from pymor[full]) (4.10.5)\n",
      "Requirement already satisfied: matplotlib in c:\\programdata\\anaconda3\\lib\\site-packages (from pymor[full]) (3.5.1)\n",
      "Requirement already satisfied: sphinxcontrib-bibtex in c:\\users\\ahsen\\appdata\\roaming\\python\\python39\\site-packages (from pymor[full]) (2.5.0)\n",
      "Requirement already satisfied: xmljson in c:\\users\\ahsen\\appdata\\roaming\\python\\python39\\site-packages (from pymor[full]) (0.2.1)\n",
      "Requirement already satisfied: ipython>=5.0 in c:\\programdata\\anaconda3\\lib\\site-packages (from pymor[full]) (8.2.0)\n",
      "Requirement already satisfied: sphinx-qt-documentation in c:\\users\\ahsen\\appdata\\roaming\\python\\python39\\site-packages (from pymor[full]) (0.4)\n",
      "Requirement already satisfied: torch in c:\\users\\ahsen\\appdata\\roaming\\python\\python39\\site-packages (from pymor[full]) (1.12.1)\n",
      "Requirement already satisfied: python-slugify in c:\\programdata\\anaconda3\\lib\\site-packages (from pymor[full]) (5.0.2)\n",
      "Requirement already satisfied: sphinx-autoapi>=1.8 in c:\\users\\ahsen\\appdata\\roaming\\python\\python39\\site-packages (from pymor[full]) (1.9.0)\n",
      "Requirement already satisfied: pyevtk in c:\\users\\ahsen\\appdata\\roaming\\python\\python39\\site-packages (from pymor[full]) (1.5.0)\n",
      "Requirement already satisfied: pygments in c:\\programdata\\anaconda3\\lib\\site-packages (from pymor[full]) (2.11.2)\n",
      "Requirement already satisfied: pillow in c:\\programdata\\anaconda3\\lib\\site-packages (from pymor[full]) (9.0.1)\n",
      "Requirement already satisfied: myst-nb>=0.16 in c:\\users\\ahsen\\appdata\\roaming\\python\\python39\\site-packages (from pymor[full]) (0.16.0)\n",
      "Requirement already satisfied: ipyparallel>=6.2.5 in c:\\users\\ahsen\\appdata\\roaming\\python\\python39\\site-packages (from pymor[full]) (8.4.1)\n",
      "Requirement already satisfied: pytest==7.1.2 in c:\\users\\ahsen\\appdata\\roaming\\python\\python39\\site-packages (from pymor[full]) (7.1.2)\n",
      "Requirement already satisfied: ipywidgets in c:\\programdata\\anaconda3\\lib\\site-packages (from pymor[full]) (7.6.5)\n",
      "Requirement already satisfied: meshio>=4.4 in c:\\users\\ahsen\\appdata\\roaming\\python\\python39\\site-packages (from pymor[full]) (5.3.4)\n",
      "Requirement already satisfied: sphinx>=5.0 in c:\\users\\ahsen\\appdata\\roaming\\python\\python39\\site-packages (from pymor[full]) (5.1.1)\n",
      "Requirement already satisfied: sympy in c:\\programdata\\anaconda3\\lib\\site-packages (from pymor[full]) (1.10.1)\n",
      "Requirement already satisfied: PySide2>=5.15.2.1 in c:\\users\\ahsen\\appdata\\roaming\\python\\python39\\site-packages (from pymor[full]) (5.15.2.1)\n",
      "Requirement already satisfied: pyopengl in c:\\users\\ahsen\\appdata\\roaming\\python\\python39\\site-packages (from pymor[full]) (3.1.6)\n",
      "Requirement already satisfied: jupyter-client>=7.0.6 in c:\\users\\ahsen\\appdata\\roaming\\python\\python39\\site-packages (from pymor[full]) (7.3.5)\n",
      "Requirement already satisfied: pythreejs in c:\\users\\ahsen\\appdata\\roaming\\python\\python39\\site-packages (from pymor[full]) (2.4.1)\n",
      "Requirement already satisfied: sphinx-material in c:\\users\\ahsen\\appdata\\roaming\\python\\python39\\site-packages (from pymor[full]) (0.0.35)\n",
      "Requirement already satisfied: colorama in c:\\programdata\\anaconda3\\lib\\site-packages (from pytest==7.1.2->pymor[full]) (0.4.4)\n",
      "Requirement already satisfied: py>=1.8.2 in c:\\programdata\\anaconda3\\lib\\site-packages (from pytest==7.1.2->pymor[full]) (1.11.0)\n",
      "Requirement already satisfied: tomli>=1.0.0 in c:\\programdata\\anaconda3\\lib\\site-packages (from pytest==7.1.2->pymor[full]) (1.2.2)\n",
      "Requirement already satisfied: atomicwrites>=1.0 in c:\\programdata\\anaconda3\\lib\\site-packages (from pytest==7.1.2->pymor[full]) (1.4.0)\n",
      "Requirement already satisfied: iniconfig in c:\\programdata\\anaconda3\\lib\\site-packages (from pytest==7.1.2->pymor[full]) (1.1.1)\n",
      "Requirement already satisfied: attrs>=19.2.0 in c:\\programdata\\anaconda3\\lib\\site-packages (from pytest==7.1.2->pymor[full]) (21.4.0)\n",
      "Requirement already satisfied: pluggy<2.0,>=0.12 in c:\\programdata\\anaconda3\\lib\\site-packages (from pytest==7.1.2->pymor[full]) (1.0.0)\n",
      "Requirement already satisfied: decorator in c:\\programdata\\anaconda3\\lib\\site-packages (from ipyparallel>=6.2.5->pymor[full]) (5.1.1)\n",
      "Requirement already satisfied: tqdm in c:\\programdata\\anaconda3\\lib\\site-packages (from ipyparallel>=6.2.5->pymor[full]) (4.64.0)\n",
      "Requirement already satisfied: entrypoints in c:\\programdata\\anaconda3\\lib\\site-packages (from ipyparallel>=6.2.5->pymor[full]) (0.4)\n",
      "Requirement already satisfied: python-dateutil>=2.1 in c:\\programdata\\anaconda3\\lib\\site-packages (from ipyparallel>=6.2.5->pymor[full]) (2.8.2)\n",
      "Requirement already satisfied: traitlets>=4.3 in c:\\programdata\\anaconda3\\lib\\site-packages (from ipyparallel>=6.2.5->pymor[full]) (5.1.1)\n",
      "Requirement already satisfied: psutil in c:\\programdata\\anaconda3\\lib\\site-packages (from ipyparallel>=6.2.5->pymor[full]) (5.8.0)\n",
      "Requirement already satisfied: tornado>=5.1 in c:\\users\\ahsen\\appdata\\roaming\\python\\python39\\site-packages (from ipyparallel>=6.2.5->pymor[full]) (6.2)\n",
      "Requirement already satisfied: ipykernel>=4.4 in c:\\programdata\\anaconda3\\lib\\site-packages (from ipyparallel>=6.2.5->pymor[full]) (6.9.1)\n",
      "Requirement already satisfied: pyzmq>=18 in c:\\users\\ahsen\\appdata\\roaming\\python\\python39\\site-packages (from ipyparallel>=6.2.5->pymor[full]) (23.2.1)\n",
      "Requirement already satisfied: setuptools>=18.5 in c:\\programdata\\anaconda3\\lib\\site-packages (from ipython>=5.0->pymor[full]) (61.2.0)\n",
      "Requirement already satisfied: backcall in c:\\programdata\\anaconda3\\lib\\site-packages (from ipython>=5.0->pymor[full]) (0.2.0)\n",
      "Requirement already satisfied: matplotlib-inline in c:\\programdata\\anaconda3\\lib\\site-packages (from ipython>=5.0->pymor[full]) (0.1.2)\n",
      "Requirement already satisfied: pickleshare in c:\\programdata\\anaconda3\\lib\\site-packages (from ipython>=5.0->pymor[full]) (0.7.5)\n",
      "Requirement already satisfied: stack-data in c:\\programdata\\anaconda3\\lib\\site-packages (from ipython>=5.0->pymor[full]) (0.2.0)\n",
      "Requirement already satisfied: jedi>=0.16 in c:\\programdata\\anaconda3\\lib\\site-packages (from ipython>=5.0->pymor[full]) (0.18.1)\n",
      "Requirement already satisfied: prompt-toolkit!=3.0.0,!=3.0.1,<3.1.0,>=2.0.0 in c:\\programdata\\anaconda3\\lib\\site-packages (from ipython>=5.0->pymor[full]) (3.0.20)\n",
      "Requirement already satisfied: nest-asyncio>=1.5.4 in c:\\programdata\\anaconda3\\lib\\site-packages (from jupyter-client>=7.0.6->pymor[full]) (1.5.5)\n",
      "Requirement already satisfied: jupyter-core>=4.9.2 in c:\\programdata\\anaconda3\\lib\\site-packages (from jupyter-client>=7.0.6->pymor[full]) (4.9.2)\n",
      "Requirement already satisfied: rich in c:\\users\\ahsen\\appdata\\roaming\\python\\python39\\site-packages (from meshio>=4.4->pymor[full]) (12.5.1)\n",
      "Requirement already satisfied: myst-parser~=0.18.0 in c:\\users\\ahsen\\appdata\\roaming\\python\\python39\\site-packages (from myst-nb>=0.16->pymor[full]) (0.18.0)\n",
      "Requirement already satisfied: sphinx-togglebutton~=0.3.0 in c:\\users\\ahsen\\appdata\\roaming\\python\\python39\\site-packages (from myst-nb>=0.16->pymor[full]) (0.3.2)\n",
      "Requirement already satisfied: nbclient in c:\\programdata\\anaconda3\\lib\\site-packages (from myst-nb>=0.16->pymor[full]) (0.5.13)\n",
      "Requirement already satisfied: pyyaml in c:\\programdata\\anaconda3\\lib\\site-packages (from myst-nb>=0.16->pymor[full]) (6.0)\n",
      "Requirement already satisfied: typing-extensions in c:\\programdata\\anaconda3\\lib\\site-packages (from myst-nb>=0.16->pymor[full]) (4.1.1)\n",
      "Requirement already satisfied: nbformat~=5.0 in c:\\programdata\\anaconda3\\lib\\site-packages (from myst-nb>=0.16->pymor[full]) (5.3.0)\n",
      "Requirement already satisfied: importlib_metadata in c:\\programdata\\anaconda3\\lib\\site-packages (from myst-nb>=0.16->pymor[full]) (4.11.3)\n",
      "Requirement already satisfied: jupyter-cache~=0.5.0 in c:\\users\\ahsen\\appdata\\roaming\\python\\python39\\site-packages (from myst-nb>=0.16->pymor[full]) (0.5.0)\n",
      "Requirement already satisfied: shiboken2==5.15.2.1 in c:\\users\\ahsen\\appdata\\roaming\\python\\python39\\site-packages (from PySide2>=5.15.2.1->pymor[full]) (5.15.2.1)\n",
      "Requirement already satisfied: sphinxcontrib-applehelp in c:\\programdata\\anaconda3\\lib\\site-packages (from sphinx>=5.0->pymor[full]) (1.0.2)\n",
      "Requirement already satisfied: babel>=1.3 in c:\\programdata\\anaconda3\\lib\\site-packages (from sphinx>=5.0->pymor[full]) (2.9.1)\n",
      "Requirement already satisfied: alabaster<0.8,>=0.7 in c:\\programdata\\anaconda3\\lib\\site-packages (from sphinx>=5.0->pymor[full]) (0.7.12)\n",
      "Requirement already satisfied: sphinxcontrib-qthelp in c:\\programdata\\anaconda3\\lib\\site-packages (from sphinx>=5.0->pymor[full]) (1.0.3)\n",
      "Requirement already satisfied: requests>=2.5.0 in c:\\programdata\\anaconda3\\lib\\site-packages (from sphinx>=5.0->pymor[full]) (2.27.1)\n",
      "Requirement already satisfied: docutils<0.20,>=0.14 in c:\\programdata\\anaconda3\\lib\\site-packages (from sphinx>=5.0->pymor[full]) (0.17.1)\n",
      "Requirement already satisfied: Jinja2>=2.3 in c:\\programdata\\anaconda3\\lib\\site-packages (from sphinx>=5.0->pymor[full]) (2.11.3)\n",
      "Requirement already satisfied: sphinxcontrib-jsmath in c:\\programdata\\anaconda3\\lib\\site-packages (from sphinx>=5.0->pymor[full]) (1.0.1)\n",
      "Requirement already satisfied: sphinxcontrib-htmlhelp>=2.0.0 in c:\\programdata\\anaconda3\\lib\\site-packages (from sphinx>=5.0->pymor[full]) (2.0.0)\n",
      "Requirement already satisfied: snowballstemmer>=1.1 in c:\\programdata\\anaconda3\\lib\\site-packages (from sphinx>=5.0->pymor[full]) (2.2.0)\n",
      "Requirement already satisfied: imagesize in c:\\programdata\\anaconda3\\lib\\site-packages (from sphinx>=5.0->pymor[full]) (1.3.0)\n",
      "Requirement already satisfied: sphinxcontrib-devhelp in c:\\programdata\\anaconda3\\lib\\site-packages (from sphinx>=5.0->pymor[full]) (1.0.2)\n",
      "Requirement already satisfied: sphinxcontrib-serializinghtml>=1.1.5 in c:\\programdata\\anaconda3\\lib\\site-packages (from sphinx>=5.0->pymor[full]) (1.1.5)\n",
      "Requirement already satisfied: unidecode in c:\\programdata\\anaconda3\\lib\\site-packages (from sphinx-autoapi>=1.8->pymor[full]) (1.2.0)\n",
      "Requirement already satisfied: astroid>=2.7 in c:\\users\\ahsen\\appdata\\roaming\\python\\python39\\site-packages (from sphinx-autoapi>=1.8->pymor[full]) (2.12.4)\n",
      "Requirement already satisfied: pexpect>=4.0 in c:\\programdata\\anaconda3\\lib\\site-packages (from bash-kernel->pymor[full]) (4.8.0)\n",
      "Requirement already satisfied: ipython-genutils~=0.2.0 in c:\\programdata\\anaconda3\\lib\\site-packages (from ipywidgets->pymor[full]) (0.2.0)\n",
      "Requirement already satisfied: jupyterlab-widgets>=1.0.0 in c:\\programdata\\anaconda3\\lib\\site-packages (from ipywidgets->pymor[full]) (1.0.0)\n",
      "Requirement already satisfied: widgetsnbextension~=3.5.0 in c:\\programdata\\anaconda3\\lib\\site-packages (from ipywidgets->pymor[full]) (3.5.2)\n",
      "Requirement already satisfied: notebook>=4.0 in c:\\programdata\\anaconda3\\lib\\site-packages (from jupyter-contrib-nbextensions->pymor[full]) (6.4.8)\n",
      "Requirement already satisfied: jupyter-nbextensions-configurator>=0.4.0 in c:\\users\\ahsen\\appdata\\roaming\\python\\python39\\site-packages (from jupyter-contrib-nbextensions->pymor[full]) (0.5.0)\n",
      "Requirement already satisfied: nbconvert>=4.2 in c:\\programdata\\anaconda3\\lib\\site-packages (from jupyter-contrib-nbextensions->pymor[full]) (6.4.4)\n",
      "Requirement already satisfied: jupyter-latex-envs>=1.3.8 in c:\\users\\ahsen\\appdata\\roaming\\python\\python39\\site-packages (from jupyter-contrib-nbextensions->pymor[full]) (1.4.6)\n",
      "Requirement already satisfied: jupyter-contrib-core>=0.3.3 in c:\\users\\ahsen\\appdata\\roaming\\python\\python39\\site-packages (from jupyter-contrib-nbextensions->pymor[full]) (0.4.0)\n",
      "Requirement already satisfied: jupyter-highlight-selected-word>=0.1.1 in c:\\users\\ahsen\\appdata\\roaming\\python\\python39\\site-packages (from jupyter-contrib-nbextensions->pymor[full]) (0.2.0)\n",
      "Requirement already satisfied: cycler>=0.10 in c:\\programdata\\anaconda3\\lib\\site-packages (from matplotlib->pymor[full]) (0.11.0)\n",
      "Requirement already satisfied: pyparsing>=2.2.1 in c:\\programdata\\anaconda3\\lib\\site-packages (from matplotlib->pymor[full]) (3.0.4)\n",
      "Requirement already satisfied: kiwisolver>=1.0.1 in c:\\programdata\\anaconda3\\lib\\site-packages (from matplotlib->pymor[full]) (1.3.2)\n",
      "Requirement already satisfied: fonttools>=4.22.0 in c:\\programdata\\anaconda3\\lib\\site-packages (from matplotlib->pymor[full]) (4.25.0)\n",
      "Requirement already satisfied: text-unidecode>=1.3 in c:\\programdata\\anaconda3\\lib\\site-packages (from python-slugify->pymor[full]) (1.3)\n",
      "Requirement already satisfied: ipydatawidgets>=1.1.1 in c:\\users\\ahsen\\appdata\\roaming\\python\\python39\\site-packages (from pythreejs->pymor[full]) (4.3.2)\n",
      "Requirement already satisfied: beautifulsoup4 in c:\\programdata\\anaconda3\\lib\\site-packages (from sphinx-material->pymor[full]) (4.11.1)\n",
      "Requirement already satisfied: css-html-js-minify in c:\\users\\ahsen\\appdata\\roaming\\python\\python39\\site-packages (from sphinx-material->pymor[full]) (2.5.5)\n",
      "Requirement already satisfied: pybtex>=0.24 in c:\\users\\ahsen\\appdata\\roaming\\python\\python39\\site-packages (from sphinxcontrib-bibtex->pymor[full]) (0.24.0)\n",
      "Requirement already satisfied: pybtex-docutils>=1.0.0 in c:\\users\\ahsen\\appdata\\roaming\\python\\python39\\site-packages (from sphinxcontrib-bibtex->pymor[full]) (1.0.2)\n",
      "Requirement already satisfied: mpmath>=0.19 in c:\\programdata\\anaconda3\\lib\\site-packages (from sympy->pymor[full]) (1.2.1)\n",
      "Requirement already satisfied: lazy-object-proxy>=1.4.0 in c:\\programdata\\anaconda3\\lib\\site-packages (from astroid>=2.7->sphinx-autoapi>=1.8->pymor[full]) (1.6.0)\n",
      "Requirement already satisfied: wrapt<2,>=1.11 in c:\\programdata\\anaconda3\\lib\\site-packages (from astroid>=2.7->sphinx-autoapi>=1.8->pymor[full]) (1.12.1)\n",
      "Requirement already satisfied: pytz>=2015.7 in c:\\programdata\\anaconda3\\lib\\site-packages (from babel>=1.3->sphinx>=5.0->pymor[full]) (2021.3)\n",
      "Requirement already satisfied: zipp>=0.5 in c:\\programdata\\anaconda3\\lib\\site-packages (from importlib_metadata->myst-nb>=0.16->pymor[full]) (3.7.0)\n",
      "Requirement already satisfied: traittypes>=0.2.0 in c:\\users\\ahsen\\appdata\\roaming\\python\\python39\\site-packages (from ipydatawidgets>=1.1.1->pythreejs->pymor[full]) (0.2.1)\n",
      "Requirement already satisfied: debugpy<2.0,>=1.0.0 in c:\\programdata\\anaconda3\\lib\\site-packages (from ipykernel>=4.4->ipyparallel>=6.2.5->pymor[full]) (1.5.1)\n",
      "Requirement already satisfied: parso<0.9.0,>=0.8.0 in c:\\programdata\\anaconda3\\lib\\site-packages (from jedi>=0.16->ipython>=5.0->pymor[full]) (0.8.3)\n",
      "Requirement already satisfied: MarkupSafe>=0.23 in c:\\programdata\\anaconda3\\lib\\site-packages (from Jinja2>=2.3->sphinx>=5.0->pymor[full]) (2.0.1)\n",
      "Requirement already satisfied: sqlalchemy<1.5,>=1.3.12 in c:\\programdata\\anaconda3\\lib\\site-packages (from jupyter-cache~=0.5.0->myst-nb>=0.16->pymor[full]) (1.4.32)\n",
      "Requirement already satisfied: tabulate in c:\\programdata\\anaconda3\\lib\\site-packages (from jupyter-cache~=0.5.0->myst-nb>=0.16->pymor[full]) (0.8.9)\n",
      "Requirement already satisfied: pywin32>=1.0 in c:\\programdata\\anaconda3\\lib\\site-packages (from jupyter-core>=4.9.2->jupyter-client>=7.0.6->pymor[full]) (302)\n",
      "Requirement already satisfied: markdown-it-py<3.0.0,>=1.0.0 in c:\\users\\ahsen\\appdata\\roaming\\python\\python39\\site-packages (from myst-parser~=0.18.0->myst-nb>=0.16->pymor[full]) (2.1.0)\n",
      "Requirement already satisfied: mdit-py-plugins~=0.3.0 in c:\\users\\ahsen\\appdata\\roaming\\python\\python39\\site-packages (from myst-parser~=0.18.0->myst-nb>=0.16->pymor[full]) (0.3.0)\n",
      "Requirement already satisfied: testpath in c:\\programdata\\anaconda3\\lib\\site-packages (from nbconvert>=4.2->jupyter-contrib-nbextensions->pymor[full]) (0.5.0)\n",
      "Requirement already satisfied: defusedxml in c:\\programdata\\anaconda3\\lib\\site-packages (from nbconvert>=4.2->jupyter-contrib-nbextensions->pymor[full]) (0.7.1)\n",
      "Requirement already satisfied: mistune<2,>=0.8.1 in c:\\programdata\\anaconda3\\lib\\site-packages (from nbconvert>=4.2->jupyter-contrib-nbextensions->pymor[full]) (0.8.4)\n",
      "Requirement already satisfied: bleach in c:\\programdata\\anaconda3\\lib\\site-packages (from nbconvert>=4.2->jupyter-contrib-nbextensions->pymor[full]) (4.1.0)\n",
      "Requirement already satisfied: jupyterlab-pygments in c:\\programdata\\anaconda3\\lib\\site-packages (from nbconvert>=4.2->jupyter-contrib-nbextensions->pymor[full]) (0.1.2)\n",
      "Requirement already satisfied: pandocfilters>=1.4.1 in c:\\programdata\\anaconda3\\lib\\site-packages (from nbconvert>=4.2->jupyter-contrib-nbextensions->pymor[full]) (1.5.0)\n",
      "Requirement already satisfied: fastjsonschema in c:\\programdata\\anaconda3\\lib\\site-packages (from nbformat~=5.0->myst-nb>=0.16->pymor[full]) (2.15.1)\n",
      "Requirement already satisfied: jsonschema>=2.6 in c:\\programdata\\anaconda3\\lib\\site-packages (from nbformat~=5.0->myst-nb>=0.16->pymor[full]) (4.4.0)\n",
      "Requirement already satisfied: argon2-cffi in c:\\programdata\\anaconda3\\lib\\site-packages (from notebook>=4.0->jupyter-contrib-nbextensions->pymor[full]) (21.3.0)\n",
      "Requirement already satisfied: terminado>=0.8.3 in c:\\programdata\\anaconda3\\lib\\site-packages (from notebook>=4.0->jupyter-contrib-nbextensions->pymor[full]) (0.13.1)\n",
      "Requirement already satisfied: prometheus-client in c:\\programdata\\anaconda3\\lib\\site-packages (from notebook>=4.0->jupyter-contrib-nbextensions->pymor[full]) (0.13.1)\n",
      "Requirement already satisfied: Send2Trash>=1.8.0 in c:\\programdata\\anaconda3\\lib\\site-packages (from notebook>=4.0->jupyter-contrib-nbextensions->pymor[full]) (1.8.0)\n",
      "Requirement already satisfied: ptyprocess>=0.5 in c:\\programdata\\anaconda3\\lib\\site-packages (from pexpect>=4.0->bash-kernel->pymor[full]) (0.7.0)\n",
      "Requirement already satisfied: wcwidth in c:\\programdata\\anaconda3\\lib\\site-packages (from prompt-toolkit!=3.0.0,!=3.0.1,<3.1.0,>=2.0.0->ipython>=5.0->pymor[full]) (0.2.5)\n",
      "Requirement already satisfied: six in c:\\programdata\\anaconda3\\lib\\site-packages (from pybtex>=0.24->sphinxcontrib-bibtex->pymor[full]) (1.16.0)\n",
      "Requirement already satisfied: latexcodec>=1.0.4 in c:\\users\\ahsen\\appdata\\roaming\\python\\python39\\site-packages (from pybtex>=0.24->sphinxcontrib-bibtex->pymor[full]) (2.0.1)\n",
      "Requirement already satisfied: certifi>=2017.4.17 in c:\\programdata\\anaconda3\\lib\\site-packages (from requests>=2.5.0->sphinx>=5.0->pymor[full]) (2021.10.8)\n",
      "Requirement already satisfied: urllib3<1.27,>=1.21.1 in c:\\programdata\\anaconda3\\lib\\site-packages (from requests>=2.5.0->sphinx>=5.0->pymor[full]) (1.26.9)\n",
      "Requirement already satisfied: idna<4,>=2.5 in c:\\programdata\\anaconda3\\lib\\site-packages (from requests>=2.5.0->sphinx>=5.0->pymor[full]) (3.3)\n",
      "Requirement already satisfied: charset-normalizer~=2.0.0 in c:\\programdata\\anaconda3\\lib\\site-packages (from requests>=2.5.0->sphinx>=5.0->pymor[full]) (2.0.4)\n",
      "Requirement already satisfied: wheel in c:\\programdata\\anaconda3\\lib\\site-packages (from sphinx-togglebutton~=0.3.0->myst-nb>=0.16->pymor[full]) (0.37.1)\n",
      "Requirement already satisfied: soupsieve>1.2 in c:\\programdata\\anaconda3\\lib\\site-packages (from beautifulsoup4->sphinx-material->pymor[full]) (2.3.1)\n",
      "Requirement already satisfied: commonmark<0.10.0,>=0.9.0 in c:\\users\\ahsen\\appdata\\roaming\\python\\python39\\site-packages (from rich->meshio>=4.4->pymor[full]) (0.9.1)\n",
      "Requirement already satisfied: pure-eval in c:\\programdata\\anaconda3\\lib\\site-packages (from stack-data->ipython>=5.0->pymor[full]) (0.2.2)\n",
      "Requirement already satisfied: asttokens in c:\\programdata\\anaconda3\\lib\\site-packages (from stack-data->ipython>=5.0->pymor[full]) (2.0.5)\n",
      "Requirement already satisfied: executing in c:\\programdata\\anaconda3\\lib\\site-packages (from stack-data->ipython>=5.0->pymor[full]) (0.8.3)\n",
      "Requirement already satisfied: pyrsistent!=0.17.0,!=0.17.1,!=0.17.2,>=0.14.0 in c:\\programdata\\anaconda3\\lib\\site-packages (from jsonschema>=2.6->nbformat~=5.0->myst-nb>=0.16->pymor[full]) (0.18.0)\n",
      "Requirement already satisfied: mdurl~=0.1 in c:\\users\\ahsen\\appdata\\roaming\\python\\python39\\site-packages (from markdown-it-py<3.0.0,>=1.0.0->myst-parser~=0.18.0->myst-nb>=0.16->pymor[full]) (0.1.2)\n",
      "Requirement already satisfied: greenlet!=0.4.17 in c:\\programdata\\anaconda3\\lib\\site-packages (from sqlalchemy<1.5,>=1.3.12->jupyter-cache~=0.5.0->myst-nb>=0.16->pymor[full]) (1.1.1)\n",
      "Requirement already satisfied: pywinpty>=1.1.0 in c:\\programdata\\anaconda3\\lib\\site-packages (from terminado>=0.8.3->notebook>=4.0->jupyter-contrib-nbextensions->pymor[full]) (2.0.2)\n",
      "Requirement already satisfied: argon2-cffi-bindings in c:\\programdata\\anaconda3\\lib\\site-packages (from argon2-cffi->notebook>=4.0->jupyter-contrib-nbextensions->pymor[full]) (21.2.0)\n",
      "Requirement already satisfied: webencodings in c:\\programdata\\anaconda3\\lib\\site-packages (from bleach->nbconvert>=4.2->jupyter-contrib-nbextensions->pymor[full]) (0.5.1)\n",
      "Requirement already satisfied: cffi>=1.0.1 in c:\\programdata\\anaconda3\\lib\\site-packages (from argon2-cffi-bindings->argon2-cffi->notebook>=4.0->jupyter-contrib-nbextensions->pymor[full]) (1.15.0)\n",
      "Requirement already satisfied: pycparser in c:\\programdata\\anaconda3\\lib\\site-packages (from cffi>=1.0.1->argon2-cffi-bindings->argon2-cffi->notebook>=4.0->jupyter-contrib-nbextensions->pymor[full]) (2.21)\n"
     ]
    }
   ],
   "source": [
    "! pip install --upgrade pip\n",
    "! pip install pymor[full]\n"
   ],
   "metadata": {
    "collapsed": false,
    "pycharm": {
     "name": "#%%\n"
    }
   }
  },
  {
   "cell_type": "code",
   "execution_count": 13,
   "outputs": [],
   "source": [
    "from pymor.basic import *\n",
    "from pymor.core.logger import set_log_levels\n",
    "set_log_levels({'pymor.algorithms.greedy': 'ERROR', 'pymor.algorithms.gram_schmidt.gram_schmidt': 'ERROR', 'pymor.algorithms.image.estimate_image_hierarchical': 'ERROR'})\n",
    "\n"
   ],
   "metadata": {
    "collapsed": false,
    "pycharm": {
     "name": "#%%\n"
    }
   }
  },
  {
   "cell_type": "code",
   "execution_count": 15,
   "outputs": [],
   "source": [
    "p = thermal_block_problem(num_blocks=(3, 2))                    # Instantiating a thermal block"
   ],
   "metadata": {
    "collapsed": false,
    "pycharm": {
     "name": "#%%\n"
    }
   }
  },
  {
   "cell_type": "code",
   "execution_count": 16,
   "outputs": [
    {
     "name": "stderr",
     "output_type": "stream",
     "text": [
      "12:47 L2ProductP1: Integrate the products of the shape functions on each element\n",
      "12:47 L2ProductP1: Determine global dofs ...\n",
      "12:47 L2ProductP1: Boundary treatment ...\n",
      "12:47 L2ProductP1: Assemble system matrix ...\n",
      "12:47 DiffusionOperatorP1: Calculate gradients of shape functions transformed by reference map ...\n",
      "12:47 DiffusionOperatorP1: Calculate all local scalar products between gradients ...\n",
      "12:47 DiffusionOperatorP1: Determine global dofs ...\n",
      "12:47 DiffusionOperatorP1: Boundary treatment ...\n",
      "12:47 DiffusionOperatorP1: Assemble system matrix ...\n",
      "12:47 L2ProductP1: Integrate the products of the shape functions on each element\n",
      "12:47 L2ProductP1: Determine global dofs ...\n",
      "12:47 L2ProductP1: Boundary treatment ...\n",
      "12:47 L2ProductP1: Assemble system matrix ...\n",
      "12:47 DiffusionOperatorP1: Calculate gradients of shape functions transformed by reference map ...\n",
      "12:47 DiffusionOperatorP1: Calculate all local scalar products between gradients ...\n",
      "12:47 DiffusionOperatorP1: Determine global dofs ...\n",
      "12:47 DiffusionOperatorP1: Boundary treatment ...\n",
      "12:47 DiffusionOperatorP1: Assemble system matrix ...\n",
      "12:47 DiffusionOperatorP1: Calculate gradients of shape functions transformed by reference map ...\n",
      "12:47 DiffusionOperatorP1: Calculate all local scalar products between gradients ...\n",
      "12:47 DiffusionOperatorP1: Determine global dofs ...\n",
      "12:47 DiffusionOperatorP1: Boundary treatment ...\n",
      "12:47 DiffusionOperatorP1: Assemble system matrix ...\n",
      "12:47 DiffusionOperatorP1: Calculate gradients of shape functions transformed by reference map ...\n",
      "12:47 DiffusionOperatorP1: Calculate all local scalar products between gradients ...\n",
      "12:47 DiffusionOperatorP1: Determine global dofs ...\n",
      "12:47 DiffusionOperatorP1: Boundary treatment ...\n",
      "12:47 DiffusionOperatorP1: Assemble system matrix ...\n",
      "12:47 DiffusionOperatorP1: Calculate gradients of shape functions transformed by reference map ...\n",
      "12:47 DiffusionOperatorP1: Calculate all local scalar products between gradients ...\n",
      "12:47 DiffusionOperatorP1: Determine global dofs ...\n",
      "12:47 DiffusionOperatorP1: Boundary treatment ...\n",
      "12:47 DiffusionOperatorP1: Assemble system matrix ...\n",
      "12:47 DiffusionOperatorP1: Calculate gradients of shape functions transformed by reference map ...\n",
      "12:47 DiffusionOperatorP1: Calculate all local scalar products between gradients ...\n",
      "12:47 DiffusionOperatorP1: Determine global dofs ...\n",
      "12:47 DiffusionOperatorP1: Boundary treatment ...\n",
      "12:47 DiffusionOperatorP1: Assemble system matrix ...\n",
      "12:47 DiffusionOperatorP1: Calculate gradients of shape functions transformed by reference map ...\n",
      "12:47 DiffusionOperatorP1: Calculate all local scalar products between gradients ...\n",
      "12:47 DiffusionOperatorP1: Determine global dofs ...\n",
      "12:47 DiffusionOperatorP1: Boundary treatment ...\n",
      "12:47 DiffusionOperatorP1: Assemble system matrix ...\n",
      "12:47 DiffusionOperatorP1: Calculate gradients of shape functions transformed by reference map ...\n",
      "12:47 DiffusionOperatorP1: Calculate all local scalar products between gradients ...\n",
      "12:47 DiffusionOperatorP1: Determine global dofs ...\n",
      "12:47 DiffusionOperatorP1: Boundary treatment ...\n",
      "12:47 DiffusionOperatorP1: Assemble system matrix ...\n",
      "12:47 DiffusionOperatorP1: Calculate gradients of shape functions transformed by reference map ...\n",
      "12:47 DiffusionOperatorP1: Calculate all local scalar products between gradients ...\n",
      "12:47 DiffusionOperatorP1: Determine global dofs ...\n",
      "12:47 DiffusionOperatorP1: Boundary treatment ...\n",
      "12:47 DiffusionOperatorP1: Assemble system matrix ...\n"
     ]
    }
   ],
   "source": [
    "fom, fom_data = discretize_stationary_cg(p, diameter=1./50.)    # Since thermal_block_problem is a class, it returns a\n",
    "# \"Stationary Problem\" class and hence a\n",
    "# built-indiscretization can be used\n",
    "\n"
   ],
   "metadata": {
    "collapsed": false,
    "pycharm": {
     "name": "#%%\n"
    }
   }
  },
  {
   "cell_type": "code",
   "execution_count": 17,
   "outputs": [
    {
     "name": "stderr",
     "output_type": "stream",
     "text": [
      "12:48 StationaryModel: Solving ThermalBlock((3, 2))_CG for {diffusion: [1.0, 0.1, 0.3, 0.1, 0.2, 1.0], input: } ...\n"
     ]
    }
   ],
   "source": [
    "mu = [1.0, 0.1, 0.3, 0.1, 0.2, 1.0]         # Defining the parameter vector that will be used\n",
    "U = fom.solve(mu)                           # Solving the stationary problem"
   ],
   "metadata": {
    "collapsed": false,
    "pycharm": {
     "name": "#%%\n"
    }
   }
  },
  {
   "cell_type": "code",
   "execution_count": null,
   "outputs": [],
   "source": [],
   "metadata": {
    "collapsed": false,
    "pycharm": {
     "name": "#%%\n"
    }
   }
  },
  {
   "cell_type": "code",
   "execution_count": 6,
   "outputs": [
    {
     "data": {
      "text/plain": "ThreeJSPlot(children=(Box(children=(HBox(children=(Renderer(children=(Renderer(camera=PerspectiveCamera(positi…",
      "application/vnd.jupyter.widget-view+json": {
       "version_major": 2,
       "version_minor": 0,
       "model_id": "84babbb9166b4793b4aa47d81f24cc08"
      }
     },
     "metadata": {},
     "output_type": "display_data"
    }
   ],
   "source": [
    "fom.visualize(U, title = \"Solution\")        # Ploting the solution"
   ],
   "metadata": {
    "collapsed": false,
    "pycharm": {
     "name": "#%%\n"
    }
   }
  },
  {
   "cell_type": "code",
   "execution_count": null,
   "outputs": [],
   "source": [
    "Sample text for typing scenario\n",
    "    Sample text for typing scenario\n",
    "        Sample text for typing scena"
   ],
   "metadata": {
    "collapsed": false,
    "pycharm": {
     "name": "#%%\n"
    }
   }
  },
  {
   "cell_type": "code",
   "execution_count": 8,
   "outputs": [
    {
     "ename": "SyntaxError",
     "evalue": "unexpected character after line continuation character (2897302551.py, line 2)",
     "output_type": "error",
     "traceback": [
      "\u001B[1;36m  Input \u001B[1;32mIn [8]\u001B[1;36m\u001B[0m\n\u001B[1;33m    C:\\ProgramData\\Anaconda3\\Scripts\\conda.exe install -p C:/ProgramData/Anaconda3 pymor -y\u001B[0m\n\u001B[1;37m       ^\u001B[0m\n\u001B[1;31mSyntaxError\u001B[0m\u001B[1;31m:\u001B[0m unexpected character after line continuation character\n"
     ]
    }
   ],
   "source": [
    "! conda activate C:\\ProgramData\\Anaconda3\n",
    "C:\\ProgramData\\Anaconda3\\Scripts\\conda.exe install -p C:/ProgramData/Anaconda3 pymor -y"
   ],
   "metadata": {
    "collapsed": false,
    "pycharm": {
     "name": "#%%\n"
    }
   }
  },
  {
   "cell_type": "code",
   "execution_count": null,
   "outputs": [],
   "source": [],
   "metadata": {
    "collapsed": false,
    "pycharm": {
     "name": "#%%\n"
    }
   }
  }
 ],
 "metadata": {
  "kernelspec": {
   "display_name": "Python 3",
   "language": "python",
   "name": "python3"
  },
  "language_info": {
   "codemirror_mode": {
    "name": "ipython",
    "version": 2
   },
   "file_extension": ".py",
   "mimetype": "text/x-python",
   "name": "python",
   "nbconvert_exporter": "python",
   "pygments_lexer": "ipython2",
   "version": "2.7.6"
  }
 },
 "nbformat": 4,
 "nbformat_minor": 0
}