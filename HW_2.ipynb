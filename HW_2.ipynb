{
 "cells": [
  {
   "cell_type": "markdown",
   "id": "4d20b408",
   "metadata": {},
   "source": [
    "## Класс человека\n",
    "Моделирование человека — классическое упражнение для людей, которые пытаются научиться писать классы. Мы все знакомы с характеристиками и поведением людей, поэтому стоит попробовать это упражнение.\n",
    "* Определите класс Person().\n",
    "* В функции __init()__ определите несколько атрибутов человека. Хорошими атрибутами, которые следует учитывать, являются имя, возраст, место рождения и все, что вам нужно знать о людях в вашей жизни. Не менее 3 атрибутов.\n",
    "* Напишите один метод. Это может быть просто introduce_yourself(). Этот метод выводит такое утверждение, как «Здравствуйте, меня зовут Эрик».\n",
    "* Вы также можете создать такой метод, как age_person(). Простая версия этого метода просто добавит 1 к возрасту человека.\n",
    "* Создайте человека, установите соответствующие значения атрибутов и выведите информацию о человеке.\n",
    "* Вызовите свой метод для человека, которого вы создали. Убедитесь, что ваш метод выполняется правильно; если метод ничего не выводит напрямую, напечатайте что-нибудь до и после вызова метода, чтобы убедиться, что он сделал то, что предполагалось."
   ]
  },
  {
   "cell_type": "code",
   "execution_count": 54,
   "id": "487e27d0",
   "metadata": {
    "ExecuteTime": {
     "end_time": "2023-05-18T09:15:00.100654Z",
     "start_time": "2023-05-18T09:15:00.092489Z"
    }
   },
   "outputs": [],
   "source": [
    "from datetime import date, datetime\n",
    "\n",
    "\n",
    "class Person():\n",
    "    # The class Person() simulates a human,\n",
    "    # some of their characteristics and behaviour\n",
    "\n",
    "    def __init__(self, first_name, last_name, birth_date, birth_place, gender=\"unknown\", death_date=\"\"):\n",
    "        # Each Person has a name, date of birth, place of birth, gender(?)\n",
    "\n",
    "        self.first_name = first_name\n",
    "        self.last_name = last_name\n",
    "        self.birth_date = birth_date\n",
    "        self.birth_place = birth_place\n",
    "        self.gender = gender\n",
    "        self.death_date = death_date\n",
    "\n",
    "    def introduce_yourself(self):\n",
    "        # Displays basic information about a Person\n",
    "        # in the form of a self-presentation\n",
    "\n",
    "        print(\"Здравствуйте, меня зовут\", self.first_name, self.last_name)\n",
    "        substring = \"родилась\" if self.gender == 'Ж' else \"родился\"\n",
    "        print(\"Я {0} {1}, место рождения: {2}\".format(substring, self.birth_date, self.birth_place))\n",
    "        if not(self.is_died()):\n",
    "            print(\"Мне полных лет: {0} \".format(self.get_age()))\n",
    "        else:\n",
    "            print(\"Меня уже нет в живых\")\n",
    "\n",
    "    def get_age(self):\n",
    "        # Calculates and returns the current age of a Person\n",
    "\n",
    "        today = date.today()\n",
    "        birth_date = datetime.strptime(self.birth_date,\"%d.%m.%Y\")\n",
    "        age = today.year - birth_date.year - ((today.month, today.day) < (birth_date.month, birth_date.day))\n",
    "        return age\n",
    "\n",
    "    def is_died(self):\n",
    "        # Shows if a Person is already died\n",
    "\n",
    "        return self.death_date != \"\"\n"
   ]
  },
  {
   "cell_type": "code",
   "execution_count": 55,
   "outputs": [
    {
     "name": "stdout",
     "output_type": "stream",
     "text": [
      "Здравствуйте, меня зовут Надежда Веснина\n",
      "Я родилась 18.07.1990, место рождения: Барнаул Россия\n",
      "Мне полных лет: 32 \n"
     ]
    }
   ],
   "source": [
    "new_person = Person(\"Надежда\",\"Веснина\",\"18.07.1990\",\"Барнаул Россия\", \"Ж\")\n",
    "new_person.introduce_yourself()"
   ],
   "metadata": {
    "collapsed": false,
    "ExecuteTime": {
     "end_time": "2023-05-18T09:15:00.992237Z",
     "start_time": "2023-05-18T09:15:00.982713Z"
    }
   }
  },
  {
   "cell_type": "code",
   "execution_count": 56,
   "outputs": [
    {
     "name": "stdout",
     "output_type": "stream",
     "text": [
      "Здравствуйте, меня зовут Юрий Еремин\n",
      "Я родился 11.04.1982, место рождения: Новоалтайск Россия\n",
      "Мне полных лет: 41 \n"
     ]
    }
   ],
   "source": [
    "new_person = Person(\"Юрий\",\"Еремин\",\"11.04.1982\",\"Новоалтайск Россия\", \"М\")\n",
    "new_person.introduce_yourself()"
   ],
   "metadata": {
    "collapsed": false,
    "ExecuteTime": {
     "end_time": "2023-05-18T09:15:03.022884Z",
     "start_time": "2023-05-18T09:15:03.014078Z"
    }
   }
  },
  {
   "cell_type": "code",
   "execution_count": 57,
   "outputs": [
    {
     "name": "stdout",
     "output_type": "stream",
     "text": [
      "Здравствуйте, меня зовут Штирлиц К.\n",
      "Я родился 01.01.1900, место рождения: город Н.\n",
      "Меня уже нет в живых\n"
     ]
    }
   ],
   "source": [
    "new_person = Person(\"Штирлиц\", \"К.\", \"01.01.1900\", \"город Н.\", death_date=\"31.12.1945\")\n",
    "new_person.introduce_yourself()"
   ],
   "metadata": {
    "collapsed": false,
    "ExecuteTime": {
     "end_time": "2023-05-18T09:15:03.855264Z",
     "start_time": "2023-05-18T09:15:03.844156Z"
    }
   }
  },
  {
   "cell_type": "markdown",
   "id": "b0feab5a",
   "metadata": {},
   "source": [
    "## Студенческий класс\n",
    "\n",
    "* Начните с вашей программы из класса Person.\n",
    "* Создайте новый класс под названием Student, который наследуется от Person.\n",
    "* Определите некоторые качества, которые есть у учащегося, которых нет у других людей.\n",
    "    У учащегося есть школа, с которой он связан, год выпуска, средний балл и другие особые атрибуты.\n",
    "* Создайте объект Student и докажите, что вы правильно использовали наследование.\n",
    "* Установите некоторые значения атрибутов для учащегося, которые закодированы только в классе Person.\n",
    "* Установите некоторые значения атрибутов для учащегося, которые закодированы только в классе учащегося.\n",
    "* Выведите значения для всех этих атрибутов."
   ]
  },
  {
   "cell_type": "code",
   "execution_count": 58,
   "id": "543fece6",
   "metadata": {
    "ExecuteTime": {
     "end_time": "2023-05-18T09:21:21.338255Z",
     "start_time": "2023-05-18T09:21:21.315283Z"
    }
   },
   "outputs": [],
   "source": [
    "class Student(Person):\n",
    "    # The class Student extends the class Person\n",
    "    # and contains some additional information\n",
    "    # about the high education of a Person\n",
    "\n",
    "    def __init__(self, first_name, last_name, birth_date=\"\", birth_place=\"\", gender=\"unknown\", death_date=\"\",\n",
    "                 university=\"\", faculty=\"\", admission_year=\"\", graduation_year=\"\", rating=\"\"):\n",
    "        # Every Student has university, faculty, year of admission.\n",
    "        # For some Students it is also known the year of graduation and rating\n",
    "\n",
    "        super().__init__(first_name, last_name, birth_date, birth_place, gender, death_date)\n",
    "        self.university = university\n",
    "        self.faculty = faculty\n",
    "        self.admission_year = admission_year\n",
    "        self.graduation_year = graduation_year\n",
    "        self.rating = rating\n",
    "\n",
    "\n",
    "    def student_info(self):\n",
    "        # Represents general information of a Person\n",
    "        # and their high education\n",
    "\n",
    "        self.introduce_yourself()\n",
    "        print(\"Университет:\", self.university)\n",
    "        print(\"Факультет:\", self.faculty)\n",
    "        print(\"Год поступления:\", self.admission_year)\n",
    "        print(\"Год выпуска:\", self.graduation_year)\n",
    "        print(\"Средний балл:\", self.rating)\n",
    "\n"
   ]
  },
  {
   "cell_type": "code",
   "execution_count": 59,
   "outputs": [],
   "source": [
    "new_student = Student(\"Иван\", \"Татьянкин\", \"19.01.1988\", \"Москва\", university=\"МГУ\", faculty=\"Информационных технологий\", admission_year=\"2005\", graduation_year=\"2010\", rating=\"4.5\")"
   ],
   "metadata": {
    "collapsed": false,
    "ExecuteTime": {
     "end_time": "2023-05-18T09:24:19.536535Z",
     "start_time": "2023-05-18T09:24:19.496899Z"
    }
   }
  },
  {
   "cell_type": "code",
   "execution_count": 60,
   "outputs": [
    {
     "name": "stdout",
     "output_type": "stream",
     "text": [
      "Здравствуйте, меня зовут Иван Татьянкин\n",
      "Я родился 19.01.1988, место рождения: Москва\n",
      "Мне полных лет: 35 \n"
     ]
    }
   ],
   "source": [
    "new_student.introduce_yourself()"
   ],
   "metadata": {
    "collapsed": false,
    "ExecuteTime": {
     "end_time": "2023-05-18T09:25:13.163681Z",
     "start_time": "2023-05-18T09:25:13.144435Z"
    }
   }
  },
  {
   "cell_type": "code",
   "execution_count": 61,
   "outputs": [
    {
     "name": "stdout",
     "output_type": "stream",
     "text": [
      "Здравствуйте, меня зовут Иван Татьянкин\n",
      "Я родился 19.01.1988, место рождения: Москва\n",
      "Мне полных лет: 35 \n",
      "Университет: МГУ\n",
      "Факультет: Информационных технологий\n",
      "Год поступления: 2005\n",
      "Год выпуска: 2010\n",
      "Средний балл: 4.5\n"
     ]
    }
   ],
   "source": [
    "new_student.student_info()"
   ],
   "metadata": {
    "collapsed": false,
    "ExecuteTime": {
     "end_time": "2023-05-18T09:25:31.351518Z",
     "start_time": "2023-05-18T09:25:31.328417Z"
    }
   }
  },
  {
   "cell_type": "code",
   "execution_count": 67,
   "outputs": [
    {
     "data": {
      "text/plain": "'Москва'"
     },
     "execution_count": 67,
     "metadata": {},
     "output_type": "execute_result"
    }
   ],
   "source": [
    "new_student.birth_place"
   ],
   "metadata": {
    "collapsed": false,
    "ExecuteTime": {
     "end_time": "2023-05-18T09:27:05.481334Z",
     "start_time": "2023-05-18T09:27:05.473213Z"
    }
   }
  },
  {
   "cell_type": "code",
   "execution_count": 68,
   "outputs": [
    {
     "data": {
      "text/plain": "35"
     },
     "execution_count": 68,
     "metadata": {},
     "output_type": "execute_result"
    }
   ],
   "source": [
    "new_student.get_age()"
   ],
   "metadata": {
    "collapsed": false,
    "ExecuteTime": {
     "end_time": "2023-05-18T09:27:06.084115Z",
     "start_time": "2023-05-18T09:27:06.076211Z"
    }
   }
  },
  {
   "cell_type": "code",
   "execution_count": 69,
   "outputs": [
    {
     "data": {
      "text/plain": "'4.5'"
     },
     "execution_count": 69,
     "metadata": {},
     "output_type": "execute_result"
    }
   ],
   "source": [
    "new_student.rating"
   ],
   "metadata": {
    "collapsed": false,
    "ExecuteTime": {
     "end_time": "2023-05-18T09:27:07.419099Z",
     "start_time": "2023-05-18T09:27:07.408456Z"
    }
   }
  },
  {
   "cell_type": "code",
   "execution_count": null,
   "outputs": [],
   "source": [],
   "metadata": {
    "collapsed": false
   }
  }
 ],
 "metadata": {
  "kernelspec": {
   "display_name": "Python 3 (ipykernel)",
   "language": "python",
   "name": "python3"
  },
  "language_info": {
   "codemirror_mode": {
    "name": "ipython",
    "version": 3
   },
   "file_extension": ".py",
   "mimetype": "text/x-python",
   "name": "python",
   "nbconvert_exporter": "python",
   "pygments_lexer": "ipython3",
   "version": "3.9.7"
  }
 },
 "nbformat": 4,
 "nbformat_minor": 5
}
